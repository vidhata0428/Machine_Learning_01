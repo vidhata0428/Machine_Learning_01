{
  "nbformat": 4,
  "nbformat_minor": 0,
  "metadata": {
    "colab": {
      "provenance": [],
      "toc_visible": true,
      "authorship_tag": "ABX9TyMh6tZRdW+I+nGypMJEvLeA",
      "include_colab_link": true
    },
    "kernelspec": {
      "name": "python3",
      "display_name": "Python 3"
    },
    "language_info": {
      "name": "python"
    }
  },
  "cells": [
    {
      "cell_type": "markdown",
      "metadata": {
        "id": "view-in-github",
        "colab_type": "text"
      },
      "source": [
        "<a href=\"https://colab.research.google.com/github/vidhata0428/Machine_Learning_01/blob/main/Regression.ipynb\" target=\"_parent\"><img src=\"https://colab.research.google.com/assets/colab-badge.svg\" alt=\"Open In Colab\"/></a>"
      ]
    },
    {
      "cell_type": "code",
      "execution_count": 2,
      "metadata": {
        "colab": {
          "base_uri": "https://localhost:8080/",
          "height": 226
        },
        "id": "mX_cHkmzfDj5",
        "outputId": "4f6e8b53-5bca-4425-c7d7-3128f6943f0f"
      },
      "outputs": [
        {
          "output_type": "execute_result",
          "data": {
            "text/plain": [
              "   Week_num  Passengers  Promotion_Budget  Service_Quality_Score Holiday_week  \\\n",
              "0         1       37824            517356                4.00000           NO   \n",
              "1         2       43936            646086                2.67466           NO   \n",
              "2         3       42896            638330                3.29473           NO   \n",
              "3         4       35792            506492                3.85684           NO   \n",
              "4         5       38624            609658                3.90757           NO   \n",
              "\n",
              "  Delayed_Cancelled_flight_ind  Inter_metro_flight_ratio Bad_Weather_Ind  \\\n",
              "0                           NO                      0.70             YES   \n",
              "1                          YES                      0.80             YES   \n",
              "2                           NO                      0.90              NO   \n",
              "3                           NO                      0.40              NO   \n",
              "4                           NO                      0.87              NO   \n",
              "\n",
              "  Technical_issues_ind  \n",
              "0                  YES  \n",
              "1                  YES  \n",
              "2                   NO  \n",
              "3                   NO  \n",
              "4                  YES  "
            ],
            "text/html": [
              "\n",
              "  <div id=\"df-4caeaa55-37dd-4e5f-89fb-a8a0f1bb6c61\" class=\"colab-df-container\">\n",
              "    <div>\n",
              "<style scoped>\n",
              "    .dataframe tbody tr th:only-of-type {\n",
              "        vertical-align: middle;\n",
              "    }\n",
              "\n",
              "    .dataframe tbody tr th {\n",
              "        vertical-align: top;\n",
              "    }\n",
              "\n",
              "    .dataframe thead th {\n",
              "        text-align: right;\n",
              "    }\n",
              "</style>\n",
              "<table border=\"1\" class=\"dataframe\">\n",
              "  <thead>\n",
              "    <tr style=\"text-align: right;\">\n",
              "      <th></th>\n",
              "      <th>Week_num</th>\n",
              "      <th>Passengers</th>\n",
              "      <th>Promotion_Budget</th>\n",
              "      <th>Service_Quality_Score</th>\n",
              "      <th>Holiday_week</th>\n",
              "      <th>Delayed_Cancelled_flight_ind</th>\n",
              "      <th>Inter_metro_flight_ratio</th>\n",
              "      <th>Bad_Weather_Ind</th>\n",
              "      <th>Technical_issues_ind</th>\n",
              "    </tr>\n",
              "  </thead>\n",
              "  <tbody>\n",
              "    <tr>\n",
              "      <th>0</th>\n",
              "      <td>1</td>\n",
              "      <td>37824</td>\n",
              "      <td>517356</td>\n",
              "      <td>4.00000</td>\n",
              "      <td>NO</td>\n",
              "      <td>NO</td>\n",
              "      <td>0.70</td>\n",
              "      <td>YES</td>\n",
              "      <td>YES</td>\n",
              "    </tr>\n",
              "    <tr>\n",
              "      <th>1</th>\n",
              "      <td>2</td>\n",
              "      <td>43936</td>\n",
              "      <td>646086</td>\n",
              "      <td>2.67466</td>\n",
              "      <td>NO</td>\n",
              "      <td>YES</td>\n",
              "      <td>0.80</td>\n",
              "      <td>YES</td>\n",
              "      <td>YES</td>\n",
              "    </tr>\n",
              "    <tr>\n",
              "      <th>2</th>\n",
              "      <td>3</td>\n",
              "      <td>42896</td>\n",
              "      <td>638330</td>\n",
              "      <td>3.29473</td>\n",
              "      <td>NO</td>\n",
              "      <td>NO</td>\n",
              "      <td>0.90</td>\n",
              "      <td>NO</td>\n",
              "      <td>NO</td>\n",
              "    </tr>\n",
              "    <tr>\n",
              "      <th>3</th>\n",
              "      <td>4</td>\n",
              "      <td>35792</td>\n",
              "      <td>506492</td>\n",
              "      <td>3.85684</td>\n",
              "      <td>NO</td>\n",
              "      <td>NO</td>\n",
              "      <td>0.40</td>\n",
              "      <td>NO</td>\n",
              "      <td>NO</td>\n",
              "    </tr>\n",
              "    <tr>\n",
              "      <th>4</th>\n",
              "      <td>5</td>\n",
              "      <td>38624</td>\n",
              "      <td>609658</td>\n",
              "      <td>3.90757</td>\n",
              "      <td>NO</td>\n",
              "      <td>NO</td>\n",
              "      <td>0.87</td>\n",
              "      <td>NO</td>\n",
              "      <td>YES</td>\n",
              "    </tr>\n",
              "  </tbody>\n",
              "</table>\n",
              "</div>\n",
              "    <div class=\"colab-df-buttons\">\n",
              "\n",
              "  <div class=\"colab-df-container\">\n",
              "    <button class=\"colab-df-convert\" onclick=\"convertToInteractive('df-4caeaa55-37dd-4e5f-89fb-a8a0f1bb6c61')\"\n",
              "            title=\"Convert this dataframe to an interactive table.\"\n",
              "            style=\"display:none;\">\n",
              "\n",
              "  <svg xmlns=\"http://www.w3.org/2000/svg\" height=\"24px\" viewBox=\"0 -960 960 960\">\n",
              "    <path d=\"M120-120v-720h720v720H120Zm60-500h600v-160H180v160Zm220 220h160v-160H400v160Zm0 220h160v-160H400v160ZM180-400h160v-160H180v160Zm440 0h160v-160H620v160ZM180-180h160v-160H180v160Zm440 0h160v-160H620v160Z\"/>\n",
              "  </svg>\n",
              "    </button>\n",
              "\n",
              "  <style>\n",
              "    .colab-df-container {\n",
              "      display:flex;\n",
              "      gap: 12px;\n",
              "    }\n",
              "\n",
              "    .colab-df-convert {\n",
              "      background-color: #E8F0FE;\n",
              "      border: none;\n",
              "      border-radius: 50%;\n",
              "      cursor: pointer;\n",
              "      display: none;\n",
              "      fill: #1967D2;\n",
              "      height: 32px;\n",
              "      padding: 0 0 0 0;\n",
              "      width: 32px;\n",
              "    }\n",
              "\n",
              "    .colab-df-convert:hover {\n",
              "      background-color: #E2EBFA;\n",
              "      box-shadow: 0px 1px 2px rgba(60, 64, 67, 0.3), 0px 1px 3px 1px rgba(60, 64, 67, 0.15);\n",
              "      fill: #174EA6;\n",
              "    }\n",
              "\n",
              "    .colab-df-buttons div {\n",
              "      margin-bottom: 4px;\n",
              "    }\n",
              "\n",
              "    [theme=dark] .colab-df-convert {\n",
              "      background-color: #3B4455;\n",
              "      fill: #D2E3FC;\n",
              "    }\n",
              "\n",
              "    [theme=dark] .colab-df-convert:hover {\n",
              "      background-color: #434B5C;\n",
              "      box-shadow: 0px 1px 3px 1px rgba(0, 0, 0, 0.15);\n",
              "      filter: drop-shadow(0px 1px 2px rgba(0, 0, 0, 0.3));\n",
              "      fill: #FFFFFF;\n",
              "    }\n",
              "  </style>\n",
              "\n",
              "    <script>\n",
              "      const buttonEl =\n",
              "        document.querySelector('#df-4caeaa55-37dd-4e5f-89fb-a8a0f1bb6c61 button.colab-df-convert');\n",
              "      buttonEl.style.display =\n",
              "        google.colab.kernel.accessAllowed ? 'block' : 'none';\n",
              "\n",
              "      async function convertToInteractive(key) {\n",
              "        const element = document.querySelector('#df-4caeaa55-37dd-4e5f-89fb-a8a0f1bb6c61');\n",
              "        const dataTable =\n",
              "          await google.colab.kernel.invokeFunction('convertToInteractive',\n",
              "                                                    [key], {});\n",
              "        if (!dataTable) return;\n",
              "\n",
              "        const docLinkHtml = 'Like what you see? Visit the ' +\n",
              "          '<a target=\"_blank\" href=https://colab.research.google.com/notebooks/data_table.ipynb>data table notebook</a>'\n",
              "          + ' to learn more about interactive tables.';\n",
              "        element.innerHTML = '';\n",
              "        dataTable['output_type'] = 'display_data';\n",
              "        await google.colab.output.renderOutput(dataTable, element);\n",
              "        const docLink = document.createElement('div');\n",
              "        docLink.innerHTML = docLinkHtml;\n",
              "        element.appendChild(docLink);\n",
              "      }\n",
              "    </script>\n",
              "  </div>\n",
              "\n",
              "\n",
              "<div id=\"df-42c8afd0-f451-4fb5-8cd5-75a9046cc8e0\">\n",
              "  <button class=\"colab-df-quickchart\" onclick=\"quickchart('df-42c8afd0-f451-4fb5-8cd5-75a9046cc8e0')\"\n",
              "            title=\"Suggest charts\"\n",
              "            style=\"display:none;\">\n",
              "\n",
              "<svg xmlns=\"http://www.w3.org/2000/svg\" height=\"24px\"viewBox=\"0 0 24 24\"\n",
              "     width=\"24px\">\n",
              "    <g>\n",
              "        <path d=\"M19 3H5c-1.1 0-2 .9-2 2v14c0 1.1.9 2 2 2h14c1.1 0 2-.9 2-2V5c0-1.1-.9-2-2-2zM9 17H7v-7h2v7zm4 0h-2V7h2v10zm4 0h-2v-4h2v4z\"/>\n",
              "    </g>\n",
              "</svg>\n",
              "  </button>\n",
              "\n",
              "<style>\n",
              "  .colab-df-quickchart {\n",
              "      --bg-color: #E8F0FE;\n",
              "      --fill-color: #1967D2;\n",
              "      --hover-bg-color: #E2EBFA;\n",
              "      --hover-fill-color: #174EA6;\n",
              "      --disabled-fill-color: #AAA;\n",
              "      --disabled-bg-color: #DDD;\n",
              "  }\n",
              "\n",
              "  [theme=dark] .colab-df-quickchart {\n",
              "      --bg-color: #3B4455;\n",
              "      --fill-color: #D2E3FC;\n",
              "      --hover-bg-color: #434B5C;\n",
              "      --hover-fill-color: #FFFFFF;\n",
              "      --disabled-bg-color: #3B4455;\n",
              "      --disabled-fill-color: #666;\n",
              "  }\n",
              "\n",
              "  .colab-df-quickchart {\n",
              "    background-color: var(--bg-color);\n",
              "    border: none;\n",
              "    border-radius: 50%;\n",
              "    cursor: pointer;\n",
              "    display: none;\n",
              "    fill: var(--fill-color);\n",
              "    height: 32px;\n",
              "    padding: 0;\n",
              "    width: 32px;\n",
              "  }\n",
              "\n",
              "  .colab-df-quickchart:hover {\n",
              "    background-color: var(--hover-bg-color);\n",
              "    box-shadow: 0 1px 2px rgba(60, 64, 67, 0.3), 0 1px 3px 1px rgba(60, 64, 67, 0.15);\n",
              "    fill: var(--button-hover-fill-color);\n",
              "  }\n",
              "\n",
              "  .colab-df-quickchart-complete:disabled,\n",
              "  .colab-df-quickchart-complete:disabled:hover {\n",
              "    background-color: var(--disabled-bg-color);\n",
              "    fill: var(--disabled-fill-color);\n",
              "    box-shadow: none;\n",
              "  }\n",
              "\n",
              "  .colab-df-spinner {\n",
              "    border: 2px solid var(--fill-color);\n",
              "    border-color: transparent;\n",
              "    border-bottom-color: var(--fill-color);\n",
              "    animation:\n",
              "      spin 1s steps(1) infinite;\n",
              "  }\n",
              "\n",
              "  @keyframes spin {\n",
              "    0% {\n",
              "      border-color: transparent;\n",
              "      border-bottom-color: var(--fill-color);\n",
              "      border-left-color: var(--fill-color);\n",
              "    }\n",
              "    20% {\n",
              "      border-color: transparent;\n",
              "      border-left-color: var(--fill-color);\n",
              "      border-top-color: var(--fill-color);\n",
              "    }\n",
              "    30% {\n",
              "      border-color: transparent;\n",
              "      border-left-color: var(--fill-color);\n",
              "      border-top-color: var(--fill-color);\n",
              "      border-right-color: var(--fill-color);\n",
              "    }\n",
              "    40% {\n",
              "      border-color: transparent;\n",
              "      border-right-color: var(--fill-color);\n",
              "      border-top-color: var(--fill-color);\n",
              "    }\n",
              "    60% {\n",
              "      border-color: transparent;\n",
              "      border-right-color: var(--fill-color);\n",
              "    }\n",
              "    80% {\n",
              "      border-color: transparent;\n",
              "      border-right-color: var(--fill-color);\n",
              "      border-bottom-color: var(--fill-color);\n",
              "    }\n",
              "    90% {\n",
              "      border-color: transparent;\n",
              "      border-bottom-color: var(--fill-color);\n",
              "    }\n",
              "  }\n",
              "</style>\n",
              "\n",
              "  <script>\n",
              "    async function quickchart(key) {\n",
              "      const quickchartButtonEl =\n",
              "        document.querySelector('#' + key + ' button');\n",
              "      quickchartButtonEl.disabled = true;  // To prevent multiple clicks.\n",
              "      quickchartButtonEl.classList.add('colab-df-spinner');\n",
              "      try {\n",
              "        const charts = await google.colab.kernel.invokeFunction(\n",
              "            'suggestCharts', [key], {});\n",
              "      } catch (error) {\n",
              "        console.error('Error during call to suggestCharts:', error);\n",
              "      }\n",
              "      quickchartButtonEl.classList.remove('colab-df-spinner');\n",
              "      quickchartButtonEl.classList.add('colab-df-quickchart-complete');\n",
              "    }\n",
              "    (() => {\n",
              "      let quickchartButtonEl =\n",
              "        document.querySelector('#df-42c8afd0-f451-4fb5-8cd5-75a9046cc8e0 button');\n",
              "      quickchartButtonEl.style.display =\n",
              "        google.colab.kernel.accessAllowed ? 'block' : 'none';\n",
              "    })();\n",
              "  </script>\n",
              "</div>\n",
              "\n",
              "    </div>\n",
              "  </div>\n"
            ],
            "application/vnd.google.colaboratory.intrinsic+json": {
              "type": "dataframe",
              "variable_name": "air",
              "summary": "{\n  \"name\": \"air\",\n  \"rows\": 80,\n  \"fields\": [\n    {\n      \"column\": \"Week_num\",\n      \"properties\": {\n        \"dtype\": \"number\",\n        \"std\": 23,\n        \"min\": 1,\n        \"max\": 80,\n        \"num_unique_values\": 80,\n        \"samples\": [\n          31,\n          1,\n          23\n        ],\n        \"semantic_type\": \"\",\n        \"description\": \"\"\n      }\n    },\n    {\n      \"column\": \"Passengers\",\n      \"properties\": {\n        \"dtype\": \"number\",\n        \"std\": 11267,\n        \"min\": 28700,\n        \"max\": 81228,\n        \"num_unique_values\": 77,\n        \"samples\": [\n          38624,\n          36304,\n          34960\n        ],\n        \"semantic_type\": \"\",\n        \"description\": \"\"\n      }\n    },\n    {\n      \"column\": \"Promotion_Budget\",\n      \"properties\": {\n        \"dtype\": \"number\",\n        \"std\": 156514,\n        \"min\": 365680,\n        \"max\": 1108254,\n        \"num_unique_values\": 80,\n        \"samples\": [\n          472178,\n          517356,\n          502712\n        ],\n        \"semantic_type\": \"\",\n        \"description\": \"\"\n      }\n    },\n    {\n      \"column\": \"Service_Quality_Score\",\n      \"properties\": {\n        \"dtype\": \"number\",\n        \"std\": 1.0002039172721326,\n        \"min\": 0.85536,\n        \"max\": 4.0,\n        \"num_unique_values\": 80,\n        \"samples\": [\n          3.97446,\n          4.0,\n          3.37428\n        ],\n        \"semantic_type\": \"\",\n        \"description\": \"\"\n      }\n    },\n    {\n      \"column\": \"Holiday_week\",\n      \"properties\": {\n        \"dtype\": \"category\",\n        \"num_unique_values\": 2,\n        \"samples\": [\n          \"YES\",\n          \"NO\"\n        ],\n        \"semantic_type\": \"\",\n        \"description\": \"\"\n      }\n    },\n    {\n      \"column\": \"Delayed_Cancelled_flight_ind\",\n      \"properties\": {\n        \"dtype\": \"category\",\n        \"num_unique_values\": 2,\n        \"samples\": [\n          \"YES\",\n          \"NO\"\n        ],\n        \"semantic_type\": \"\",\n        \"description\": \"\"\n      }\n    },\n    {\n      \"column\": \"Inter_metro_flight_ratio\",\n      \"properties\": {\n        \"dtype\": \"number\",\n        \"std\": 0.15804501842228771,\n        \"min\": 0.38,\n        \"max\": 0.9,\n        \"num_unique_values\": 44,\n        \"samples\": [\n          0.81,\n          0.65\n        ],\n        \"semantic_type\": \"\",\n        \"description\": \"\"\n      }\n    },\n    {\n      \"column\": \"Bad_Weather_Ind\",\n      \"properties\": {\n        \"dtype\": \"category\",\n        \"num_unique_values\": 2,\n        \"samples\": [\n          \"NO\",\n          \"YES\"\n        ],\n        \"semantic_type\": \"\",\n        \"description\": \"\"\n      }\n    },\n    {\n      \"column\": \"Technical_issues_ind\",\n      \"properties\": {\n        \"dtype\": \"category\",\n        \"num_unique_values\": 2,\n        \"samples\": [\n          \"NO\",\n          \"YES\"\n        ],\n        \"semantic_type\": \"\",\n        \"description\": \"\"\n      }\n    }\n  ]\n}"
            }
          },
          "metadata": {},
          "execution_count": 2
        }
      ],
      "source": [
        "import pandas as pd\n",
        "air = pd.read_csv(\"https://raw.githubusercontent.com/venkatareddykonasani/Datasets/master/AirPassengers/AirPassengers.csv\")\n",
        "air.head(5)"
      ]
    },
    {
      "cell_type": "code",
      "source": [
        "air.shape"
      ],
      "metadata": {
        "colab": {
          "base_uri": "https://localhost:8080/"
        },
        "id": "w34hI14TfInc",
        "outputId": "b023706f-794d-42cf-8f53-d362241a0b03"
      },
      "execution_count": 2,
      "outputs": [
        {
          "output_type": "execute_result",
          "data": {
            "text/plain": [
              "(80, 9)"
            ]
          },
          "metadata": {},
          "execution_count": 2
        }
      ]
    },
    {
      "cell_type": "code",
      "source": [
        "air.info()"
      ],
      "metadata": {
        "colab": {
          "base_uri": "https://localhost:8080/"
        },
        "id": "eL8pbeOgfJ7H",
        "outputId": "8a553f44-fd51-44df-dc2b-33580d9eb78d"
      },
      "execution_count": 7,
      "outputs": [
        {
          "output_type": "stream",
          "name": "stdout",
          "text": [
            "<class 'pandas.core.frame.DataFrame'>\n",
            "RangeIndex: 80 entries, 0 to 79\n",
            "Data columns (total 9 columns):\n",
            " #   Column                        Non-Null Count  Dtype  \n",
            "---  ------                        --------------  -----  \n",
            " 0   Week_num                      80 non-null     int64  \n",
            " 1   Passengers                    80 non-null     int64  \n",
            " 2   Promotion_Budget              80 non-null     int64  \n",
            " 3   Service_Quality_Score         80 non-null     float64\n",
            " 4   Holiday_week                  80 non-null     object \n",
            " 5   Delayed_Cancelled_flight_ind  80 non-null     object \n",
            " 6   Inter_metro_flight_ratio      80 non-null     float64\n",
            " 7   Bad_Weather_Ind               80 non-null     object \n",
            " 8   Technical_issues_ind          80 non-null     object \n",
            "dtypes: float64(2), int64(3), object(4)\n",
            "memory usage: 5.8+ KB\n"
          ]
        }
      ]
    },
    {
      "cell_type": "code",
      "source": [
        "air.columns.values"
      ],
      "metadata": {
        "colab": {
          "base_uri": "https://localhost:8080/"
        },
        "id": "XP3N-0j5fKSp",
        "outputId": "200a415a-ca7b-48cc-fbe3-3fd9c39c707b"
      },
      "execution_count": 8,
      "outputs": [
        {
          "output_type": "execute_result",
          "data": {
            "text/plain": [
              "array(['Week_num', 'Passengers', 'Promotion_Budget',\n",
              "       'Service_Quality_Score', 'Holiday_week',\n",
              "       'Delayed_Cancelled_flight_ind', 'Inter_metro_flight_ratio',\n",
              "       'Bad_Weather_Ind', 'Technical_issues_ind'], dtype=object)"
            ]
          },
          "metadata": {},
          "execution_count": 8
        }
      ]
    },
    {
      "cell_type": "code",
      "source": [
        "air.describe()"
      ],
      "metadata": {
        "colab": {
          "base_uri": "https://localhost:8080/",
          "height": 300
        },
        "id": "Pt03n1wKfLaF",
        "outputId": "2b533a22-b082-43e0-e795-f88df7b456cd"
      },
      "execution_count": 10,
      "outputs": [
        {
          "output_type": "execute_result",
          "data": {
            "text/plain": [
              "       Week_num    Passengers  Promotion_Budget  Service_Quality_Score  \\\n",
              "count   80.0000     80.000000      8.000000e+01              80.000000   \n",
              "mean    40.5000  44745.025000      6.254223e+05               2.781168   \n",
              "std     23.2379  11267.155215      1.565143e+05               1.000204   \n",
              "min      1.0000  28700.000000      3.656800e+05               0.855360   \n",
              "25%     20.7500  36424.000000      5.178915e+05               1.931580   \n",
              "50%     40.5000  43144.000000      5.979190e+05               3.108120   \n",
              "75%     60.2500  48864.000000      6.885935e+05               3.608882   \n",
              "max     80.0000  81228.000000      1.108254e+06               4.000000   \n",
              "\n",
              "       Inter_metro_flight_ratio  \n",
              "count                 80.000000  \n",
              "mean                   0.693000  \n",
              "std                    0.158045  \n",
              "min                    0.380000  \n",
              "25%                    0.610000  \n",
              "50%                    0.720000  \n",
              "75%                    0.802500  \n",
              "max                    0.900000  "
            ],
            "text/html": [
              "\n",
              "  <div id=\"df-a27a29bf-58fa-4bcf-9c94-cfa01685bd41\" class=\"colab-df-container\">\n",
              "    <div>\n",
              "<style scoped>\n",
              "    .dataframe tbody tr th:only-of-type {\n",
              "        vertical-align: middle;\n",
              "    }\n",
              "\n",
              "    .dataframe tbody tr th {\n",
              "        vertical-align: top;\n",
              "    }\n",
              "\n",
              "    .dataframe thead th {\n",
              "        text-align: right;\n",
              "    }\n",
              "</style>\n",
              "<table border=\"1\" class=\"dataframe\">\n",
              "  <thead>\n",
              "    <tr style=\"text-align: right;\">\n",
              "      <th></th>\n",
              "      <th>Week_num</th>\n",
              "      <th>Passengers</th>\n",
              "      <th>Promotion_Budget</th>\n",
              "      <th>Service_Quality_Score</th>\n",
              "      <th>Inter_metro_flight_ratio</th>\n",
              "    </tr>\n",
              "  </thead>\n",
              "  <tbody>\n",
              "    <tr>\n",
              "      <th>count</th>\n",
              "      <td>80.0000</td>\n",
              "      <td>80.000000</td>\n",
              "      <td>8.000000e+01</td>\n",
              "      <td>80.000000</td>\n",
              "      <td>80.000000</td>\n",
              "    </tr>\n",
              "    <tr>\n",
              "      <th>mean</th>\n",
              "      <td>40.5000</td>\n",
              "      <td>44745.025000</td>\n",
              "      <td>6.254223e+05</td>\n",
              "      <td>2.781168</td>\n",
              "      <td>0.693000</td>\n",
              "    </tr>\n",
              "    <tr>\n",
              "      <th>std</th>\n",
              "      <td>23.2379</td>\n",
              "      <td>11267.155215</td>\n",
              "      <td>1.565143e+05</td>\n",
              "      <td>1.000204</td>\n",
              "      <td>0.158045</td>\n",
              "    </tr>\n",
              "    <tr>\n",
              "      <th>min</th>\n",
              "      <td>1.0000</td>\n",
              "      <td>28700.000000</td>\n",
              "      <td>3.656800e+05</td>\n",
              "      <td>0.855360</td>\n",
              "      <td>0.380000</td>\n",
              "    </tr>\n",
              "    <tr>\n",
              "      <th>25%</th>\n",
              "      <td>20.7500</td>\n",
              "      <td>36424.000000</td>\n",
              "      <td>5.178915e+05</td>\n",
              "      <td>1.931580</td>\n",
              "      <td>0.610000</td>\n",
              "    </tr>\n",
              "    <tr>\n",
              "      <th>50%</th>\n",
              "      <td>40.5000</td>\n",
              "      <td>43144.000000</td>\n",
              "      <td>5.979190e+05</td>\n",
              "      <td>3.108120</td>\n",
              "      <td>0.720000</td>\n",
              "    </tr>\n",
              "    <tr>\n",
              "      <th>75%</th>\n",
              "      <td>60.2500</td>\n",
              "      <td>48864.000000</td>\n",
              "      <td>6.885935e+05</td>\n",
              "      <td>3.608882</td>\n",
              "      <td>0.802500</td>\n",
              "    </tr>\n",
              "    <tr>\n",
              "      <th>max</th>\n",
              "      <td>80.0000</td>\n",
              "      <td>81228.000000</td>\n",
              "      <td>1.108254e+06</td>\n",
              "      <td>4.000000</td>\n",
              "      <td>0.900000</td>\n",
              "    </tr>\n",
              "  </tbody>\n",
              "</table>\n",
              "</div>\n",
              "    <div class=\"colab-df-buttons\">\n",
              "\n",
              "  <div class=\"colab-df-container\">\n",
              "    <button class=\"colab-df-convert\" onclick=\"convertToInteractive('df-a27a29bf-58fa-4bcf-9c94-cfa01685bd41')\"\n",
              "            title=\"Convert this dataframe to an interactive table.\"\n",
              "            style=\"display:none;\">\n",
              "\n",
              "  <svg xmlns=\"http://www.w3.org/2000/svg\" height=\"24px\" viewBox=\"0 -960 960 960\">\n",
              "    <path d=\"M120-120v-720h720v720H120Zm60-500h600v-160H180v160Zm220 220h160v-160H400v160Zm0 220h160v-160H400v160ZM180-400h160v-160H180v160Zm440 0h160v-160H620v160ZM180-180h160v-160H180v160Zm440 0h160v-160H620v160Z\"/>\n",
              "  </svg>\n",
              "    </button>\n",
              "\n",
              "  <style>\n",
              "    .colab-df-container {\n",
              "      display:flex;\n",
              "      gap: 12px;\n",
              "    }\n",
              "\n",
              "    .colab-df-convert {\n",
              "      background-color: #E8F0FE;\n",
              "      border: none;\n",
              "      border-radius: 50%;\n",
              "      cursor: pointer;\n",
              "      display: none;\n",
              "      fill: #1967D2;\n",
              "      height: 32px;\n",
              "      padding: 0 0 0 0;\n",
              "      width: 32px;\n",
              "    }\n",
              "\n",
              "    .colab-df-convert:hover {\n",
              "      background-color: #E2EBFA;\n",
              "      box-shadow: 0px 1px 2px rgba(60, 64, 67, 0.3), 0px 1px 3px 1px rgba(60, 64, 67, 0.15);\n",
              "      fill: #174EA6;\n",
              "    }\n",
              "\n",
              "    .colab-df-buttons div {\n",
              "      margin-bottom: 4px;\n",
              "    }\n",
              "\n",
              "    [theme=dark] .colab-df-convert {\n",
              "      background-color: #3B4455;\n",
              "      fill: #D2E3FC;\n",
              "    }\n",
              "\n",
              "    [theme=dark] .colab-df-convert:hover {\n",
              "      background-color: #434B5C;\n",
              "      box-shadow: 0px 1px 3px 1px rgba(0, 0, 0, 0.15);\n",
              "      filter: drop-shadow(0px 1px 2px rgba(0, 0, 0, 0.3));\n",
              "      fill: #FFFFFF;\n",
              "    }\n",
              "  </style>\n",
              "\n",
              "    <script>\n",
              "      const buttonEl =\n",
              "        document.querySelector('#df-a27a29bf-58fa-4bcf-9c94-cfa01685bd41 button.colab-df-convert');\n",
              "      buttonEl.style.display =\n",
              "        google.colab.kernel.accessAllowed ? 'block' : 'none';\n",
              "\n",
              "      async function convertToInteractive(key) {\n",
              "        const element = document.querySelector('#df-a27a29bf-58fa-4bcf-9c94-cfa01685bd41');\n",
              "        const dataTable =\n",
              "          await google.colab.kernel.invokeFunction('convertToInteractive',\n",
              "                                                    [key], {});\n",
              "        if (!dataTable) return;\n",
              "\n",
              "        const docLinkHtml = 'Like what you see? Visit the ' +\n",
              "          '<a target=\"_blank\" href=https://colab.research.google.com/notebooks/data_table.ipynb>data table notebook</a>'\n",
              "          + ' to learn more about interactive tables.';\n",
              "        element.innerHTML = '';\n",
              "        dataTable['output_type'] = 'display_data';\n",
              "        await google.colab.output.renderOutput(dataTable, element);\n",
              "        const docLink = document.createElement('div');\n",
              "        docLink.innerHTML = docLinkHtml;\n",
              "        element.appendChild(docLink);\n",
              "      }\n",
              "    </script>\n",
              "  </div>\n",
              "\n",
              "\n",
              "<div id=\"df-68dfa60b-cc8f-4ce9-a9f6-3b08f1f7842c\">\n",
              "  <button class=\"colab-df-quickchart\" onclick=\"quickchart('df-68dfa60b-cc8f-4ce9-a9f6-3b08f1f7842c')\"\n",
              "            title=\"Suggest charts\"\n",
              "            style=\"display:none;\">\n",
              "\n",
              "<svg xmlns=\"http://www.w3.org/2000/svg\" height=\"24px\"viewBox=\"0 0 24 24\"\n",
              "     width=\"24px\">\n",
              "    <g>\n",
              "        <path d=\"M19 3H5c-1.1 0-2 .9-2 2v14c0 1.1.9 2 2 2h14c1.1 0 2-.9 2-2V5c0-1.1-.9-2-2-2zM9 17H7v-7h2v7zm4 0h-2V7h2v10zm4 0h-2v-4h2v4z\"/>\n",
              "    </g>\n",
              "</svg>\n",
              "  </button>\n",
              "\n",
              "<style>\n",
              "  .colab-df-quickchart {\n",
              "      --bg-color: #E8F0FE;\n",
              "      --fill-color: #1967D2;\n",
              "      --hover-bg-color: #E2EBFA;\n",
              "      --hover-fill-color: #174EA6;\n",
              "      --disabled-fill-color: #AAA;\n",
              "      --disabled-bg-color: #DDD;\n",
              "  }\n",
              "\n",
              "  [theme=dark] .colab-df-quickchart {\n",
              "      --bg-color: #3B4455;\n",
              "      --fill-color: #D2E3FC;\n",
              "      --hover-bg-color: #434B5C;\n",
              "      --hover-fill-color: #FFFFFF;\n",
              "      --disabled-bg-color: #3B4455;\n",
              "      --disabled-fill-color: #666;\n",
              "  }\n",
              "\n",
              "  .colab-df-quickchart {\n",
              "    background-color: var(--bg-color);\n",
              "    border: none;\n",
              "    border-radius: 50%;\n",
              "    cursor: pointer;\n",
              "    display: none;\n",
              "    fill: var(--fill-color);\n",
              "    height: 32px;\n",
              "    padding: 0;\n",
              "    width: 32px;\n",
              "  }\n",
              "\n",
              "  .colab-df-quickchart:hover {\n",
              "    background-color: var(--hover-bg-color);\n",
              "    box-shadow: 0 1px 2px rgba(60, 64, 67, 0.3), 0 1px 3px 1px rgba(60, 64, 67, 0.15);\n",
              "    fill: var(--button-hover-fill-color);\n",
              "  }\n",
              "\n",
              "  .colab-df-quickchart-complete:disabled,\n",
              "  .colab-df-quickchart-complete:disabled:hover {\n",
              "    background-color: var(--disabled-bg-color);\n",
              "    fill: var(--disabled-fill-color);\n",
              "    box-shadow: none;\n",
              "  }\n",
              "\n",
              "  .colab-df-spinner {\n",
              "    border: 2px solid var(--fill-color);\n",
              "    border-color: transparent;\n",
              "    border-bottom-color: var(--fill-color);\n",
              "    animation:\n",
              "      spin 1s steps(1) infinite;\n",
              "  }\n",
              "\n",
              "  @keyframes spin {\n",
              "    0% {\n",
              "      border-color: transparent;\n",
              "      border-bottom-color: var(--fill-color);\n",
              "      border-left-color: var(--fill-color);\n",
              "    }\n",
              "    20% {\n",
              "      border-color: transparent;\n",
              "      border-left-color: var(--fill-color);\n",
              "      border-top-color: var(--fill-color);\n",
              "    }\n",
              "    30% {\n",
              "      border-color: transparent;\n",
              "      border-left-color: var(--fill-color);\n",
              "      border-top-color: var(--fill-color);\n",
              "      border-right-color: var(--fill-color);\n",
              "    }\n",
              "    40% {\n",
              "      border-color: transparent;\n",
              "      border-right-color: var(--fill-color);\n",
              "      border-top-color: var(--fill-color);\n",
              "    }\n",
              "    60% {\n",
              "      border-color: transparent;\n",
              "      border-right-color: var(--fill-color);\n",
              "    }\n",
              "    80% {\n",
              "      border-color: transparent;\n",
              "      border-right-color: var(--fill-color);\n",
              "      border-bottom-color: var(--fill-color);\n",
              "    }\n",
              "    90% {\n",
              "      border-color: transparent;\n",
              "      border-bottom-color: var(--fill-color);\n",
              "    }\n",
              "  }\n",
              "</style>\n",
              "\n",
              "  <script>\n",
              "    async function quickchart(key) {\n",
              "      const quickchartButtonEl =\n",
              "        document.querySelector('#' + key + ' button');\n",
              "      quickchartButtonEl.disabled = true;  // To prevent multiple clicks.\n",
              "      quickchartButtonEl.classList.add('colab-df-spinner');\n",
              "      try {\n",
              "        const charts = await google.colab.kernel.invokeFunction(\n",
              "            'suggestCharts', [key], {});\n",
              "      } catch (error) {\n",
              "        console.error('Error during call to suggestCharts:', error);\n",
              "      }\n",
              "      quickchartButtonEl.classList.remove('colab-df-spinner');\n",
              "      quickchartButtonEl.classList.add('colab-df-quickchart-complete');\n",
              "    }\n",
              "    (() => {\n",
              "      let quickchartButtonEl =\n",
              "        document.querySelector('#df-68dfa60b-cc8f-4ce9-a9f6-3b08f1f7842c button');\n",
              "      quickchartButtonEl.style.display =\n",
              "        google.colab.kernel.accessAllowed ? 'block' : 'none';\n",
              "    })();\n",
              "  </script>\n",
              "</div>\n",
              "\n",
              "    </div>\n",
              "  </div>\n"
            ],
            "application/vnd.google.colaboratory.intrinsic+json": {
              "type": "dataframe",
              "summary": "{\n  \"name\": \"air\",\n  \"rows\": 8,\n  \"fields\": [\n    {\n      \"column\": \"Week_num\",\n      \"properties\": {\n        \"dtype\": \"number\",\n        \"std\": 28.528280627081276,\n        \"min\": 1.0,\n        \"max\": 80.0,\n        \"num_unique_values\": 6,\n        \"samples\": [\n          80.0,\n          40.5,\n          60.25\n        ],\n        \"semantic_type\": \"\",\n        \"description\": \"\"\n      }\n    },\n    {\n      \"column\": \"Passengers\",\n      \"properties\": {\n        \"dtype\": \"number\",\n        \"std\": 24752.467804049895,\n        \"min\": 80.0,\n        \"max\": 81228.0,\n        \"num_unique_values\": 8,\n        \"samples\": [\n          44745.025,\n          43144.0,\n          80.0\n        ],\n        \"semantic_type\": \"\",\n        \"description\": \"\"\n      }\n    },\n    {\n      \"column\": \"Promotion_Budget\",\n      \"properties\": {\n        \"dtype\": \"number\",\n        \"std\": 341565.38043461426,\n        \"min\": 80.0,\n        \"max\": 1108254.0,\n        \"num_unique_values\": 8,\n        \"samples\": [\n          625422.35,\n          597919.0,\n          80.0\n        ],\n        \"semantic_type\": \"\",\n        \"description\": \"\"\n      }\n    },\n    {\n      \"column\": \"Service_Quality_Score\",\n      \"properties\": {\n        \"dtype\": \"number\",\n        \"std\": 27.435192057727782,\n        \"min\": 0.85536,\n        \"max\": 80.0,\n        \"num_unique_values\": 8,\n        \"samples\": [\n          2.7811677500000003,\n          3.10812,\n          80.0\n        ],\n        \"semantic_type\": \"\",\n        \"description\": \"\"\n      }\n    },\n    {\n      \"column\": \"Inter_metro_flight_ratio\",\n      \"properties\": {\n        \"dtype\": \"number\",\n        \"std\": 28.069940724895144,\n        \"min\": 0.15804501842228771,\n        \"max\": 80.0,\n        \"num_unique_values\": 8,\n        \"samples\": [\n          0.693,\n          0.72,\n          80.0\n        ],\n        \"semantic_type\": \"\",\n        \"description\": \"\"\n      }\n    }\n  ]\n}"
            }
          },
          "metadata": {},
          "execution_count": 10
        }
      ]
    },
    {
      "cell_type": "code",
      "source": [
        "#Corelation between no_of_passengers & promotional_budget\n",
        "import numpy as np\n",
        "np.corrcoef(air.Passengers,air.Promotion_Budget)\n"
      ],
      "metadata": {
        "colab": {
          "base_uri": "https://localhost:8080/"
        },
        "id": "l9WZ6JdQfLc3",
        "outputId": "6aa949a2-06a2-4b88-8af7-4d335cb71bd9"
      },
      "execution_count": 14,
      "outputs": [
        {
          "output_type": "execute_result",
          "data": {
            "text/plain": [
              "array([[1.        , 0.96585103],\n",
              "       [0.96585103, 1.        ]])"
            ]
          },
          "metadata": {},
          "execution_count": 14
        }
      ]
    },
    {
      "cell_type": "code",
      "source": [
        "import statsmodels.formula.api as sm\n",
        "model = sm.ols(formula=\"Passengers ~ Promotion_Budget\",data=air)\n",
        "fitted1=model.fit()\n",
        "fitted1.summary()"
      ],
      "metadata": {
        "colab": {
          "base_uri": "https://localhost:8080/",
          "height": 478
        },
        "id": "68TT2KSwfLfx",
        "outputId": "a044e87a-c39d-4da1-b4de-476e8c64a6f3"
      },
      "execution_count": 16,
      "outputs": [
        {
          "output_type": "execute_result",
          "data": {
            "text/plain": [
              "<class 'statsmodels.iolib.summary.Summary'>\n",
              "\"\"\"\n",
              "                            OLS Regression Results                            \n",
              "==============================================================================\n",
              "Dep. Variable:             Passengers   R-squared:                       0.933\n",
              "Model:                            OLS   Adj. R-squared:                  0.932\n",
              "Method:                 Least Squares   F-statistic:                     1084.\n",
              "Date:                Sat, 19 Apr 2025   Prob (F-statistic):           1.66e-47\n",
              "Time:                        06:28:17   Log-Likelihood:                -751.34\n",
              "No. Observations:                  80   AIC:                             1507.\n",
              "Df Residuals:                      78   BIC:                             1511.\n",
              "Df Model:                           1                                         \n",
              "Covariance Type:            nonrobust                                         \n",
              "====================================================================================\n",
              "                       coef    std err          t      P>|t|      [0.025      0.975]\n",
              "------------------------------------------------------------------------------------\n",
              "Intercept         1259.6058   1361.071      0.925      0.358   -1450.078    3969.290\n",
              "Promotion_Budget     0.0695      0.002     32.923      0.000       0.065       0.074\n",
              "==============================================================================\n",
              "Omnibus:                       26.624   Durbin-Watson:                   1.831\n",
              "Prob(Omnibus):                  0.000   Jarque-Bera (JB):                5.188\n",
              "Skew:                          -0.128   Prob(JB):                       0.0747\n",
              "Kurtosis:                       1.779   Cond. No.                     2.67e+06\n",
              "==============================================================================\n",
              "\n",
              "Notes:\n",
              "[1] Standard Errors assume that the covariance matrix of the errors is correctly specified.\n",
              "[2] The condition number is large, 2.67e+06. This might indicate that there are\n",
              "strong multicollinearity or other numerical problems.\n",
              "\"\"\""
            ],
            "text/html": [
              "<table class=\"simpletable\">\n",
              "<caption>OLS Regression Results</caption>\n",
              "<tr>\n",
              "  <th>Dep. Variable:</th>       <td>Passengers</td>    <th>  R-squared:         </th> <td>   0.933</td>\n",
              "</tr>\n",
              "<tr>\n",
              "  <th>Model:</th>                   <td>OLS</td>       <th>  Adj. R-squared:    </th> <td>   0.932</td>\n",
              "</tr>\n",
              "<tr>\n",
              "  <th>Method:</th>             <td>Least Squares</td>  <th>  F-statistic:       </th> <td>   1084.</td>\n",
              "</tr>\n",
              "<tr>\n",
              "  <th>Date:</th>             <td>Sat, 19 Apr 2025</td> <th>  Prob (F-statistic):</th> <td>1.66e-47</td>\n",
              "</tr>\n",
              "<tr>\n",
              "  <th>Time:</th>                 <td>06:28:17</td>     <th>  Log-Likelihood:    </th> <td> -751.34</td>\n",
              "</tr>\n",
              "<tr>\n",
              "  <th>No. Observations:</th>      <td>    80</td>      <th>  AIC:               </th> <td>   1507.</td>\n",
              "</tr>\n",
              "<tr>\n",
              "  <th>Df Residuals:</th>          <td>    78</td>      <th>  BIC:               </th> <td>   1511.</td>\n",
              "</tr>\n",
              "<tr>\n",
              "  <th>Df Model:</th>              <td>     1</td>      <th>                     </th>     <td> </td>   \n",
              "</tr>\n",
              "<tr>\n",
              "  <th>Covariance Type:</th>      <td>nonrobust</td>    <th>                     </th>     <td> </td>   \n",
              "</tr>\n",
              "</table>\n",
              "<table class=\"simpletable\">\n",
              "<tr>\n",
              "          <td></td>            <th>coef</th>     <th>std err</th>      <th>t</th>      <th>P>|t|</th>  <th>[0.025</th>    <th>0.975]</th>  \n",
              "</tr>\n",
              "<tr>\n",
              "  <th>Intercept</th>        <td> 1259.6058</td> <td> 1361.071</td> <td>    0.925</td> <td> 0.358</td> <td>-1450.078</td> <td> 3969.290</td>\n",
              "</tr>\n",
              "<tr>\n",
              "  <th>Promotion_Budget</th> <td>    0.0695</td> <td>    0.002</td> <td>   32.923</td> <td> 0.000</td> <td>    0.065</td> <td>    0.074</td>\n",
              "</tr>\n",
              "</table>\n",
              "<table class=\"simpletable\">\n",
              "<tr>\n",
              "  <th>Omnibus:</th>       <td>26.624</td> <th>  Durbin-Watson:     </th> <td>   1.831</td>\n",
              "</tr>\n",
              "<tr>\n",
              "  <th>Prob(Omnibus):</th> <td> 0.000</td> <th>  Jarque-Bera (JB):  </th> <td>   5.188</td>\n",
              "</tr>\n",
              "<tr>\n",
              "  <th>Skew:</th>          <td>-0.128</td> <th>  Prob(JB):          </th> <td>  0.0747</td>\n",
              "</tr>\n",
              "<tr>\n",
              "  <th>Kurtosis:</th>      <td> 1.779</td> <th>  Cond. No.          </th> <td>2.67e+06</td>\n",
              "</tr>\n",
              "</table><br/><br/>Notes:<br/>[1] Standard Errors assume that the covariance matrix of the errors is correctly specified.<br/>[2] The condition number is large, 2.67e+06. This might indicate that there are<br/>strong multicollinearity or other numerical problems."
            ],
            "text/latex": "\\begin{center}\n\\begin{tabular}{lclc}\n\\toprule\n\\textbf{Dep. Variable:}    &    Passengers    & \\textbf{  R-squared:         } &     0.933   \\\\\n\\textbf{Model:}            &       OLS        & \\textbf{  Adj. R-squared:    } &     0.932   \\\\\n\\textbf{Method:}           &  Least Squares   & \\textbf{  F-statistic:       } &     1084.   \\\\\n\\textbf{Date:}             & Sat, 19 Apr 2025 & \\textbf{  Prob (F-statistic):} &  1.66e-47   \\\\\n\\textbf{Time:}             &     06:28:17     & \\textbf{  Log-Likelihood:    } &   -751.34   \\\\\n\\textbf{No. Observations:} &          80      & \\textbf{  AIC:               } &     1507.   \\\\\n\\textbf{Df Residuals:}     &          78      & \\textbf{  BIC:               } &     1511.   \\\\\n\\textbf{Df Model:}         &           1      & \\textbf{                     } &             \\\\\n\\textbf{Covariance Type:}  &    nonrobust     & \\textbf{                     } &             \\\\\n\\bottomrule\n\\end{tabular}\n\\begin{tabular}{lcccccc}\n                           & \\textbf{coef} & \\textbf{std err} & \\textbf{t} & \\textbf{P$> |$t$|$} & \\textbf{[0.025} & \\textbf{0.975]}  \\\\\n\\midrule\n\\textbf{Intercept}         &    1259.6058  &     1361.071     &     0.925  &         0.358        &    -1450.078    &     3969.290     \\\\\n\\textbf{Promotion\\_Budget} &       0.0695  &        0.002     &    32.923  &         0.000        &        0.065    &        0.074     \\\\\n\\bottomrule\n\\end{tabular}\n\\begin{tabular}{lclc}\n\\textbf{Omnibus:}       & 26.624 & \\textbf{  Durbin-Watson:     } &    1.831  \\\\\n\\textbf{Prob(Omnibus):} &  0.000 & \\textbf{  Jarque-Bera (JB):  } &    5.188  \\\\\n\\textbf{Skew:}          & -0.128 & \\textbf{  Prob(JB):          } &   0.0747  \\\\\n\\textbf{Kurtosis:}      &  1.779 & \\textbf{  Cond. No.          } & 2.67e+06  \\\\\n\\bottomrule\n\\end{tabular}\n%\\caption{OLS Regression Results}\n\\end{center}\n\nNotes: \\newline\n [1] Standard Errors assume that the covariance matrix of the errors is correctly specified. \\newline\n [2] The condition number is large, 2.67e+06. This might indicate that there are \\newline\n strong multicollinearity or other numerical problems."
          },
          "metadata": {},
          "execution_count": 16
        }
      ]
    },
    {
      "cell_type": "code",
      "source": [
        "#Prediction of passengers based on Beta0 and Beta1\n",
        "#How many passengers we will get if promotion_budget is increased to 5 hundred thousand\n",
        "passengers = 1259.6 + 0.0695*500000\n",
        "passengers"
      ],
      "metadata": {
        "colab": {
          "base_uri": "https://localhost:8080/"
        },
        "id": "YVZymxMhloyp",
        "outputId": "eeb865c4-d9e7-4194-8f86-14e2918c6ddf"
      },
      "execution_count": 18,
      "outputs": [
        {
          "output_type": "execute_result",
          "data": {
            "text/plain": [
              "70759.6"
            ]
          },
          "metadata": {},
          "execution_count": 18
        }
      ]
    },
    {
      "cell_type": "code",
      "source": [
        "passengers = 1259.6 + 0.0695*517356\n",
        "passengers"
      ],
      "metadata": {
        "colab": {
          "base_uri": "https://localhost:8080/"
        },
        "id": "-naolSGe1QnH",
        "outputId": "1788a0bc-1bd9-4ec0-f3f9-bdba3d0a6971"
      },
      "execution_count": 23,
      "outputs": [
        {
          "output_type": "execute_result",
          "data": {
            "text/plain": [
              "37215.842000000004"
            ]
          },
          "metadata": {},
          "execution_count": 23
        }
      ]
    },
    {
      "cell_type": "code",
      "source": [
        "#Model-2\n",
        "#Prediction of Passengers by inter_metro_flight_ratio\n",
        "import numpy as np\n",
        "np.corrcoef(air.Passengers,air.Inter_metro_flight_ratio)\n",
        "\n",
        "#Corelation coeficient is 0.49 that measns very less association btw the 2 variables"
      ],
      "metadata": {
        "colab": {
          "base_uri": "https://localhost:8080/"
        },
        "id": "nW44oLGfxPJf",
        "outputId": "bfa08ca4-68b1-4347-872a-3bcefc765e39"
      },
      "execution_count": 19,
      "outputs": [
        {
          "output_type": "execute_result",
          "data": {
            "text/plain": [
              "array([[1.       , 0.4919468],\n",
              "       [0.4919468, 1.       ]])"
            ]
          },
          "metadata": {},
          "execution_count": 19
        }
      ]
    },
    {
      "cell_type": "code",
      "source": [
        "import statsmodels.formula.api as sm\n",
        "model_2 = sm.ols(formula=\"Passengers ~ Inter_metro_flight_ratio\" ,data=air)\n",
        "fitted2=model_2.fit()\n",
        "fitted2.summary()"
      ],
      "metadata": {
        "colab": {
          "base_uri": "https://localhost:8080/",
          "height": 444
        },
        "id": "EuDZ9CpzxvNH",
        "outputId": "eaa54c0f-fe22-4620-c2d3-7392fff77a9e"
      },
      "execution_count": 22,
      "outputs": [
        {
          "output_type": "execute_result",
          "data": {
            "text/plain": [
              "<class 'statsmodels.iolib.summary.Summary'>\n",
              "\"\"\"\n",
              "                            OLS Regression Results                            \n",
              "==============================================================================\n",
              "Dep. Variable:             Passengers   R-squared:                       0.242\n",
              "Model:                            OLS   Adj. R-squared:                  0.232\n",
              "Method:                 Least Squares   F-statistic:                     24.90\n",
              "Date:                Sat, 19 Apr 2025   Prob (F-statistic):           3.58e-06\n",
              "Time:                        06:52:47   Log-Likelihood:                -848.30\n",
              "No. Observations:                  80   AIC:                             1701.\n",
              "Df Residuals:                      78   BIC:                             1705.\n",
              "Df Model:                           1                                         \n",
              "Covariance Type:            nonrobust                                         \n",
              "============================================================================================\n",
              "                               coef    std err          t      P>|t|      [0.025      0.975]\n",
              "--------------------------------------------------------------------------------------------\n",
              "Intercept                 2.044e+04   4993.747      4.093      0.000    1.05e+04    3.04e+04\n",
              "Inter_metro_flight_ratio  3.507e+04   7027.768      4.990      0.000    2.11e+04    4.91e+04\n",
              "==============================================================================\n",
              "Omnibus:                       10.172   Durbin-Watson:                   1.385\n",
              "Prob(Omnibus):                  0.006   Jarque-Bera (JB):               10.098\n",
              "Skew:                           0.822   Prob(JB):                      0.00641\n",
              "Kurtosis:                       3.573   Cond. No.                         9.48\n",
              "==============================================================================\n",
              "\n",
              "Notes:\n",
              "[1] Standard Errors assume that the covariance matrix of the errors is correctly specified.\n",
              "\"\"\""
            ],
            "text/html": [
              "<table class=\"simpletable\">\n",
              "<caption>OLS Regression Results</caption>\n",
              "<tr>\n",
              "  <th>Dep. Variable:</th>       <td>Passengers</td>    <th>  R-squared:         </th> <td>   0.242</td>\n",
              "</tr>\n",
              "<tr>\n",
              "  <th>Model:</th>                   <td>OLS</td>       <th>  Adj. R-squared:    </th> <td>   0.232</td>\n",
              "</tr>\n",
              "<tr>\n",
              "  <th>Method:</th>             <td>Least Squares</td>  <th>  F-statistic:       </th> <td>   24.90</td>\n",
              "</tr>\n",
              "<tr>\n",
              "  <th>Date:</th>             <td>Sat, 19 Apr 2025</td> <th>  Prob (F-statistic):</th> <td>3.58e-06</td>\n",
              "</tr>\n",
              "<tr>\n",
              "  <th>Time:</th>                 <td>06:52:47</td>     <th>  Log-Likelihood:    </th> <td> -848.30</td>\n",
              "</tr>\n",
              "<tr>\n",
              "  <th>No. Observations:</th>      <td>    80</td>      <th>  AIC:               </th> <td>   1701.</td>\n",
              "</tr>\n",
              "<tr>\n",
              "  <th>Df Residuals:</th>          <td>    78</td>      <th>  BIC:               </th> <td>   1705.</td>\n",
              "</tr>\n",
              "<tr>\n",
              "  <th>Df Model:</th>              <td>     1</td>      <th>                     </th>     <td> </td>   \n",
              "</tr>\n",
              "<tr>\n",
              "  <th>Covariance Type:</th>      <td>nonrobust</td>    <th>                     </th>     <td> </td>   \n",
              "</tr>\n",
              "</table>\n",
              "<table class=\"simpletable\">\n",
              "<tr>\n",
              "              <td></td>                <th>coef</th>     <th>std err</th>      <th>t</th>      <th>P>|t|</th>  <th>[0.025</th>    <th>0.975]</th>  \n",
              "</tr>\n",
              "<tr>\n",
              "  <th>Intercept</th>                <td> 2.044e+04</td> <td> 4993.747</td> <td>    4.093</td> <td> 0.000</td> <td> 1.05e+04</td> <td> 3.04e+04</td>\n",
              "</tr>\n",
              "<tr>\n",
              "  <th>Inter_metro_flight_ratio</th> <td> 3.507e+04</td> <td> 7027.768</td> <td>    4.990</td> <td> 0.000</td> <td> 2.11e+04</td> <td> 4.91e+04</td>\n",
              "</tr>\n",
              "</table>\n",
              "<table class=\"simpletable\">\n",
              "<tr>\n",
              "  <th>Omnibus:</th>       <td>10.172</td> <th>  Durbin-Watson:     </th> <td>   1.385</td>\n",
              "</tr>\n",
              "<tr>\n",
              "  <th>Prob(Omnibus):</th> <td> 0.006</td> <th>  Jarque-Bera (JB):  </th> <td>  10.098</td>\n",
              "</tr>\n",
              "<tr>\n",
              "  <th>Skew:</th>          <td> 0.822</td> <th>  Prob(JB):          </th> <td> 0.00641</td>\n",
              "</tr>\n",
              "<tr>\n",
              "  <th>Kurtosis:</th>      <td> 3.573</td> <th>  Cond. No.          </th> <td>    9.48</td>\n",
              "</tr>\n",
              "</table><br/><br/>Notes:<br/>[1] Standard Errors assume that the covariance matrix of the errors is correctly specified."
            ],
            "text/latex": "\\begin{center}\n\\begin{tabular}{lclc}\n\\toprule\n\\textbf{Dep. Variable:}              &    Passengers    & \\textbf{  R-squared:         } &     0.242   \\\\\n\\textbf{Model:}                      &       OLS        & \\textbf{  Adj. R-squared:    } &     0.232   \\\\\n\\textbf{Method:}                     &  Least Squares   & \\textbf{  F-statistic:       } &     24.90   \\\\\n\\textbf{Date:}                       & Sat, 19 Apr 2025 & \\textbf{  Prob (F-statistic):} &  3.58e-06   \\\\\n\\textbf{Time:}                       &     06:52:47     & \\textbf{  Log-Likelihood:    } &   -848.30   \\\\\n\\textbf{No. Observations:}           &          80      & \\textbf{  AIC:               } &     1701.   \\\\\n\\textbf{Df Residuals:}               &          78      & \\textbf{  BIC:               } &     1705.   \\\\\n\\textbf{Df Model:}                   &           1      & \\textbf{                     } &             \\\\\n\\textbf{Covariance Type:}            &    nonrobust     & \\textbf{                     } &             \\\\\n\\bottomrule\n\\end{tabular}\n\\begin{tabular}{lcccccc}\n                                     & \\textbf{coef} & \\textbf{std err} & \\textbf{t} & \\textbf{P$> |$t$|$} & \\textbf{[0.025} & \\textbf{0.975]}  \\\\\n\\midrule\n\\textbf{Intercept}                   &    2.044e+04  &     4993.747     &     4.093  &         0.000        &     1.05e+04    &     3.04e+04     \\\\\n\\textbf{Inter\\_metro\\_flight\\_ratio} &    3.507e+04  &     7027.768     &     4.990  &         0.000        &     2.11e+04    &     4.91e+04     \\\\\n\\bottomrule\n\\end{tabular}\n\\begin{tabular}{lclc}\n\\textbf{Omnibus:}       & 10.172 & \\textbf{  Durbin-Watson:     } &    1.385  \\\\\n\\textbf{Prob(Omnibus):} &  0.006 & \\textbf{  Jarque-Bera (JB):  } &   10.098  \\\\\n\\textbf{Skew:}          &  0.822 & \\textbf{  Prob(JB):          } &  0.00641  \\\\\n\\textbf{Kurtosis:}      &  3.573 & \\textbf{  Cond. No.          } &     9.48  \\\\\n\\bottomrule\n\\end{tabular}\n%\\caption{OLS Regression Results}\n\\end{center}\n\nNotes: \\newline\n [1] Standard Errors assume that the covariance matrix of the errors is correctly specified."
          },
          "metadata": {},
          "execution_count": 22
        }
      ]
    },
    {
      "cell_type": "code",
      "source": [
        "#Multiple Regression\n",
        "import statsmodels.formula.api as sm\n",
        "model_3=sm.ols(formula=\"Passengers ~ Promotion_Budget+Inter_metro_flight_ratio+Service_Quality_Score\",data=air)\n",
        "result=model_3.fit()\n",
        "result.summary()"
      ],
      "metadata": {
        "colab": {
          "base_uri": "https://localhost:8080/",
          "height": 520
        },
        "id": "YZsRlx-kxvju",
        "outputId": "8384e9ec-5500-42de-fa8a-296d8b404f91"
      },
      "execution_count": 9,
      "outputs": [
        {
          "output_type": "execute_result",
          "data": {
            "text/plain": [
              "<class 'statsmodels.iolib.summary.Summary'>\n",
              "\"\"\"\n",
              "                            OLS Regression Results                            \n",
              "==============================================================================\n",
              "Dep. Variable:             Passengers   R-squared:                       0.951\n",
              "Model:                            OLS   Adj. R-squared:                  0.949\n",
              "Method:                 Least Squares   F-statistic:                     495.6\n",
              "Date:                Sat, 19 Apr 2025   Prob (F-statistic):           8.71e-50\n",
              "Time:                        09:45:28   Log-Likelihood:                -738.45\n",
              "No. Observations:                  80   AIC:                             1485.\n",
              "Df Residuals:                      76   BIC:                             1494.\n",
              "Df Model:                           3                                         \n",
              "Covariance Type:            nonrobust                                         \n",
              "============================================================================================\n",
              "                               coef    std err          t      P>|t|      [0.025      0.975]\n",
              "--------------------------------------------------------------------------------------------\n",
              "Intercept                 1.921e+04   3542.694      5.424      0.000    1.22e+04    2.63e+04\n",
              "Promotion_Budget             0.0555      0.004     15.476      0.000       0.048       0.063\n",
              "Inter_metro_flight_ratio -2003.4508   2129.095     -0.941      0.350   -6243.912    2237.010\n",
              "Service_Quality_Score    -2802.0708    530.382     -5.283      0.000   -3858.419   -1745.723\n",
              "==============================================================================\n",
              "Omnibus:                        6.902   Durbin-Watson:                   2.312\n",
              "Prob(Omnibus):                  0.032   Jarque-Bera (JB):                2.759\n",
              "Skew:                          -0.051   Prob(JB):                        0.252\n",
              "Kurtosis:                       2.096   Cond. No.                     8.22e+06\n",
              "==============================================================================\n",
              "\n",
              "Notes:\n",
              "[1] Standard Errors assume that the covariance matrix of the errors is correctly specified.\n",
              "[2] The condition number is large, 8.22e+06. This might indicate that there are\n",
              "strong multicollinearity or other numerical problems.\n",
              "\"\"\""
            ],
            "text/html": [
              "<table class=\"simpletable\">\n",
              "<caption>OLS Regression Results</caption>\n",
              "<tr>\n",
              "  <th>Dep. Variable:</th>       <td>Passengers</td>    <th>  R-squared:         </th> <td>   0.951</td>\n",
              "</tr>\n",
              "<tr>\n",
              "  <th>Model:</th>                   <td>OLS</td>       <th>  Adj. R-squared:    </th> <td>   0.949</td>\n",
              "</tr>\n",
              "<tr>\n",
              "  <th>Method:</th>             <td>Least Squares</td>  <th>  F-statistic:       </th> <td>   495.6</td>\n",
              "</tr>\n",
              "<tr>\n",
              "  <th>Date:</th>             <td>Sat, 19 Apr 2025</td> <th>  Prob (F-statistic):</th> <td>8.71e-50</td>\n",
              "</tr>\n",
              "<tr>\n",
              "  <th>Time:</th>                 <td>09:45:28</td>     <th>  Log-Likelihood:    </th> <td> -738.45</td>\n",
              "</tr>\n",
              "<tr>\n",
              "  <th>No. Observations:</th>      <td>    80</td>      <th>  AIC:               </th> <td>   1485.</td>\n",
              "</tr>\n",
              "<tr>\n",
              "  <th>Df Residuals:</th>          <td>    76</td>      <th>  BIC:               </th> <td>   1494.</td>\n",
              "</tr>\n",
              "<tr>\n",
              "  <th>Df Model:</th>              <td>     3</td>      <th>                     </th>     <td> </td>   \n",
              "</tr>\n",
              "<tr>\n",
              "  <th>Covariance Type:</th>      <td>nonrobust</td>    <th>                     </th>     <td> </td>   \n",
              "</tr>\n",
              "</table>\n",
              "<table class=\"simpletable\">\n",
              "<tr>\n",
              "              <td></td>                <th>coef</th>     <th>std err</th>      <th>t</th>      <th>P>|t|</th>  <th>[0.025</th>    <th>0.975]</th>  \n",
              "</tr>\n",
              "<tr>\n",
              "  <th>Intercept</th>                <td> 1.921e+04</td> <td> 3542.694</td> <td>    5.424</td> <td> 0.000</td> <td> 1.22e+04</td> <td> 2.63e+04</td>\n",
              "</tr>\n",
              "<tr>\n",
              "  <th>Promotion_Budget</th>         <td>    0.0555</td> <td>    0.004</td> <td>   15.476</td> <td> 0.000</td> <td>    0.048</td> <td>    0.063</td>\n",
              "</tr>\n",
              "<tr>\n",
              "  <th>Inter_metro_flight_ratio</th> <td>-2003.4508</td> <td> 2129.095</td> <td>   -0.941</td> <td> 0.350</td> <td>-6243.912</td> <td> 2237.010</td>\n",
              "</tr>\n",
              "<tr>\n",
              "  <th>Service_Quality_Score</th>    <td>-2802.0708</td> <td>  530.382</td> <td>   -5.283</td> <td> 0.000</td> <td>-3858.419</td> <td>-1745.723</td>\n",
              "</tr>\n",
              "</table>\n",
              "<table class=\"simpletable\">\n",
              "<tr>\n",
              "  <th>Omnibus:</th>       <td> 6.902</td> <th>  Durbin-Watson:     </th> <td>   2.312</td>\n",
              "</tr>\n",
              "<tr>\n",
              "  <th>Prob(Omnibus):</th> <td> 0.032</td> <th>  Jarque-Bera (JB):  </th> <td>   2.759</td>\n",
              "</tr>\n",
              "<tr>\n",
              "  <th>Skew:</th>          <td>-0.051</td> <th>  Prob(JB):          </th> <td>   0.252</td>\n",
              "</tr>\n",
              "<tr>\n",
              "  <th>Kurtosis:</th>      <td> 2.096</td> <th>  Cond. No.          </th> <td>8.22e+06</td>\n",
              "</tr>\n",
              "</table><br/><br/>Notes:<br/>[1] Standard Errors assume that the covariance matrix of the errors is correctly specified.<br/>[2] The condition number is large, 8.22e+06. This might indicate that there are<br/>strong multicollinearity or other numerical problems."
            ],
            "text/latex": "\\begin{center}\n\\begin{tabular}{lclc}\n\\toprule\n\\textbf{Dep. Variable:}              &    Passengers    & \\textbf{  R-squared:         } &     0.951   \\\\\n\\textbf{Model:}                      &       OLS        & \\textbf{  Adj. R-squared:    } &     0.949   \\\\\n\\textbf{Method:}                     &  Least Squares   & \\textbf{  F-statistic:       } &     495.6   \\\\\n\\textbf{Date:}                       & Sat, 19 Apr 2025 & \\textbf{  Prob (F-statistic):} &  8.71e-50   \\\\\n\\textbf{Time:}                       &     09:45:28     & \\textbf{  Log-Likelihood:    } &   -738.45   \\\\\n\\textbf{No. Observations:}           &          80      & \\textbf{  AIC:               } &     1485.   \\\\\n\\textbf{Df Residuals:}               &          76      & \\textbf{  BIC:               } &     1494.   \\\\\n\\textbf{Df Model:}                   &           3      & \\textbf{                     } &             \\\\\n\\textbf{Covariance Type:}            &    nonrobust     & \\textbf{                     } &             \\\\\n\\bottomrule\n\\end{tabular}\n\\begin{tabular}{lcccccc}\n                                     & \\textbf{coef} & \\textbf{std err} & \\textbf{t} & \\textbf{P$> |$t$|$} & \\textbf{[0.025} & \\textbf{0.975]}  \\\\\n\\midrule\n\\textbf{Intercept}                   &    1.921e+04  &     3542.694     &     5.424  &         0.000        &     1.22e+04    &     2.63e+04     \\\\\n\\textbf{Promotion\\_Budget}           &       0.0555  &        0.004     &    15.476  &         0.000        &        0.048    &        0.063     \\\\\n\\textbf{Inter\\_metro\\_flight\\_ratio} &   -2003.4508  &     2129.095     &    -0.941  &         0.350        &    -6243.912    &     2237.010     \\\\\n\\textbf{Service\\_Quality\\_Score}     &   -2802.0708  &      530.382     &    -5.283  &         0.000        &    -3858.419    &    -1745.723     \\\\\n\\bottomrule\n\\end{tabular}\n\\begin{tabular}{lclc}\n\\textbf{Omnibus:}       &  6.902 & \\textbf{  Durbin-Watson:     } &    2.312  \\\\\n\\textbf{Prob(Omnibus):} &  0.032 & \\textbf{  Jarque-Bera (JB):  } &    2.759  \\\\\n\\textbf{Skew:}          & -0.051 & \\textbf{  Prob(JB):          } &    0.252  \\\\\n\\textbf{Kurtosis:}      &  2.096 & \\textbf{  Cond. No.          } & 8.22e+06  \\\\\n\\bottomrule\n\\end{tabular}\n%\\caption{OLS Regression Results}\n\\end{center}\n\nNotes: \\newline\n [1] Standard Errors assume that the covariance matrix of the errors is correctly specified. \\newline\n [2] The condition number is large, 8.22e+06. This might indicate that there are \\newline\n strong multicollinearity or other numerical problems."
          },
          "metadata": {},
          "execution_count": 9
        }
      ]
    },
    {
      "cell_type": "code",
      "source": [
        "from sklearn.linear_model import LinearRegression\n",
        "lr=LinearRegression()\n",
        "lr.fit(air[[\"Promotion_Budget\"]+[\"Inter_metro_flight_ratio\"]+[\"Service_Quality_Score\"]],air[[\"Passengers\"]])\n",
        "prediction=lr.predict(air[[\"Promotion_Budget\"]+[\"Inter_metro_flight_ratio\"]+[\"Service_Quality_Score\"]])\n",
        "prediction[0:5]"
      ],
      "metadata": {
        "colab": {
          "base_uri": "https://localhost:8080/"
        },
        "id": "x6Tvqciyxvzx",
        "outputId": "fc55136d-28b3-44a1-f421-9fc4d16a7fe1"
      },
      "execution_count": 13,
      "outputs": [
        {
          "output_type": "execute_result",
          "data": {
            "text/plain": [
              "array([[35317.77156438],\n",
              "       [45975.98654361],\n",
              "       [43607.68242143],\n",
              "       [35716.96984575],\n",
              "       [40359.19124421]])"
            ]
          },
          "metadata": {},
          "execution_count": 13
        }
      ]
    },
    {
      "cell_type": "code",
      "source": [
        "import matplotlib.pyplot as plt\n",
        "\n",
        "plt.scatter(air[\"Passengers\"], prediction, alpha=0.7)\n",
        "plt.xlabel(\"Actual\")\n",
        "plt.ylabel(\"Predicted\")\n",
        "plt.title(\"Actual vs Predicted Passengers\")\n",
        "plt.plot([air[\"Passengers\"].min(), air[\"Passengers\"].max()],\n",
        "         [air[\"Passengers\"].min(), air[\"Passengers\"].max()],\n",
        "         'r--')  # Diagonal line\n",
        "plt.show()"
      ],
      "metadata": {
        "colab": {
          "base_uri": "https://localhost:8080/",
          "height": 472
        },
        "id": "qJrQIltUd6W4",
        "outputId": "c56eb2d8-4ff0-4a09-d359-60951225d122"
      },
      "execution_count": 14,
      "outputs": [
        {
          "output_type": "display_data",
          "data": {
            "text/plain": [
              "<Figure size 640x480 with 1 Axes>"
            ],
            "image/png": "[encoded data removed]"
          },
          "metadata": {}
        }
      ]
    },
    {
      "cell_type": "code",
      "source": [
        "plt.plot(air[\"Passengers\"].values, label=\"Actual\", marker='o')\n",
        "plt.plot(prediction, label=\"Predicted\", marker='x')\n",
        "plt.xlabel(\"Index\")\n",
        "plt.ylabel(\"Passengers\")\n",
        "plt.title(\"Line Plot - Actual vs Predicted\")\n",
        "plt.legend()\n",
        "plt.grid(True)\n",
        "plt.tight_layout()\n",
        "plt.show()\n"
      ],
      "metadata": {
        "colab": {
          "base_uri": "https://localhost:8080/",
          "height": 487
        },
        "id": "j0LzfeAQd6sE",
        "outputId": "2245d018-cce0-4c0e-de95-050d01a3c605"
      },
      "execution_count": 15,
      "outputs": [
        {
          "output_type": "display_data",
          "data": {
            "text/plain": [
              "<Figure size 640x480 with 1 Axes>"
            ],
            "image/png": "[encoded data removed]"
          },
          "metadata": {}
        }
      ]
    },
    {
      "cell_type": "code",
      "source": [
        "from sklearn.linear_model import LinearRegression\n",
        "lr=LinearRegression()\n",
        "lr.fit(air[[\"Promotion_Budget\"]+[\"Inter_metro_flight_ratio\"]+[\"Service_Quality_Score\"]],air[[\"Passengers\"]])\n",
        "prediction=lr.predict(air[[\"Promotion_Budget\"]+[\"Inter_metro_flight_ratio\"]+[\"Service_Quality_Score\"]])\n",
        "prediction[0:5]"
      ],
      "metadata": {
        "id": "t5-TgiYbd67H"
      },
      "execution_count": null,
      "outputs": []
    },
    {
      "cell_type": "code",
      "source": [],
      "metadata": {
        "id": "AoHZ9Qtxd7Iz"
      },
      "execution_count": null,
      "outputs": []
    },
    {
      "cell_type": "code",
      "source": [],
      "metadata": {
        "id": "ie9r95j5d7Yj"
      },
      "execution_count": null,
      "outputs": []
    },
    {
      "cell_type": "code",
      "source": [],
      "metadata": {
        "id": "u4ndLvqsxwBa"
      },
      "execution_count": null,
      "outputs": []
    },
    {
      "cell_type": "code",
      "source": [],
      "metadata": {
        "id": "551vuqpNiL9a"
      },
      "execution_count": null,
      "outputs": []
    },
    {
      "cell_type": "code",
      "source": [],
      "metadata": {
        "id": "mdWVPnUIfLiF"
      },
      "execution_count": null,
      "outputs": []
    },
    {
      "cell_type": "code",
      "source": [],
      "metadata": {
        "id": "NveJ_Xr0fLlf"
      },
      "execution_count": null,
      "outputs": []
    }
  ]
}